{
 "cells": [
  {
   "cell_type": "code",
   "execution_count": 8,
   "id": "ba33bc4b",
   "metadata": {},
   "outputs": [
    {
     "name": "stdout",
     "output_type": "stream",
     "text": [
      "{1, 2, 3, 4}\n",
      "<class 'set'>\n",
      "1\n",
      "2\n",
      "3\n",
      "4\n"
     ]
    }
   ],
   "source": [
    "#Set\n",
    "s = {1,2,3,4,2,2}\n",
    "print(s)\n",
    "\n",
    "print(type(s))\n",
    "\n",
    "for i in s:\n",
    "    print(i)\n"
   ]
  },
  {
   "cell_type": "code",
   "execution_count": 75,
   "id": "883988a9",
   "metadata": {},
   "outputs": [
    {
     "name": "stdout",
     "output_type": "stream",
     "text": [
      "<class 'dict'> \n",
      "\n",
      "{100: 'Rudro', 200: 'Sajid', 300: 'Sparshaw'} \n",
      "\n",
      "100-Rudro\n",
      "200-Sajid\n",
      "300-Sparshaw\n",
      "\n",
      "100-Rudro\n",
      "200-Sajid\n",
      "300-Sparshaw\n",
      "400-Redwan\n",
      "500-Turjo\n"
     ]
    }
   ],
   "source": [
    "# Map --- dict\n",
    "student={100:\"Rudro\",200:\"Sajid\",300:\"Sparshaw\"}\n",
    "\n",
    "print(type(student),\"\\n\")\n",
    "\n",
    "print(student,\"\\n\")\n",
    "\n",
    "for i in student.keys():\n",
    "    print(str(i)+\"-\"+student[i])\n",
    "    \n",
    "student[400] = \"Redwan\" # adding element in map or dict\n",
    "student[500] = \"Turjo\"\n",
    "\n",
    "print()\n",
    "for i in student.keys():\n",
    "    print(str(i)+\"-\"+student[i])"
   ]
  },
  {
   "cell_type": "code",
   "execution_count": 48,
   "id": "8393cc53",
   "metadata": {
    "scrolled": true
   },
   "outputs": [
    {
     "name": "stdout",
     "output_type": "stream",
     "text": [
      "<class 'dict'>\n",
      "Grpah =  {0: [1, 2, 3], 1: [2, 4], 3: [6, 7]} \n",
      "\n",
      "[1, 2, 3]\n",
      "1\n",
      "2\n",
      "3\n",
      "\n",
      "[2, 4]\n",
      "2\n",
      "4\n",
      "\n",
      "[6, 7]\n",
      "6\n",
      "7\n",
      "\n"
     ]
    }
   ],
   "source": [
    "#Graph\n",
    "\n",
    "graph={\n",
    "    0: [1,2,3],\n",
    "    1: [2,4],\n",
    "    3: [6,7]\n",
    "}\n",
    "\n",
    "print(type(graph))\n",
    "\n",
    "print(\"Grpah = \",graph,\"\\n\")\n",
    "\n",
    "for i in graph:\n",
    "    print(graph[i])\n",
    "    for j in range(len(graph[i])):\n",
    "        print(graph[i][j])\n",
    "    print()"
   ]
  },
  {
   "cell_type": "markdown",
   "id": "a12553d4",
   "metadata": {},
   "source": [
    "# Function\n",
    "- User define function\n",
    "    - No parameter/ argument + no return type\n",
    "    - parameter/ argument + no return type\n",
    "    - parameter/ argument + return type\n",
    "- Library function"
   ]
  },
  {
   "cell_type": "code",
   "execution_count": 59,
   "id": "f4731b0c",
   "metadata": {},
   "outputs": [
    {
     "name": "stdout",
     "output_type": "stream",
     "text": [
      "AB\n"
     ]
    }
   ],
   "source": [
    "#No Perameter/Argument + no return type\n",
    "\n",
    "def npnr():\n",
    "    a = \"A\"\n",
    "    b = \"B\"\n",
    "    print(a+b)\n",
    "    \n",
    "npnr()"
   ]
  },
  {
   "cell_type": "code",
   "execution_count": 71,
   "id": "6e4d485b",
   "metadata": {},
   "outputs": [
    {
     "name": "stdout",
     "output_type": "stream",
     "text": [
      "Hi, Mr. Datta!\n",
      "Hi, Rudro!\n"
     ]
    }
   ],
   "source": [
    "# Perameter/Argument + no return type\n",
    "\n",
    "def pnr(name = \"Mr. Datta\"):\n",
    "    print(\"Hi, \" + name + \"!\")\n",
    "\n",
    "pnr()\n",
    "pnr(\"Rudro\")\n",
    "    "
   ]
  },
  {
   "cell_type": "code",
   "execution_count": 83,
   "id": "339fda9b",
   "metadata": {},
   "outputs": [
    {
     "name": "stdout",
     "output_type": "stream",
     "text": [
      "300\n",
      "6 8\n"
     ]
    }
   ],
   "source": [
    "# perameter/argument + return type\n",
    "\n",
    "def fr(a=1,b=2):\n",
    "    addition = a+b\n",
    "    return addition\n",
    "\n",
    "def fr2(a=2,b=4):\n",
    "    add=a+b;\n",
    "    mul=a*b\n",
    "    return add, mul\n",
    "\n",
    "result = fr(100,200)\n",
    "print(result)\n",
    "\n",
    "result2, result3 = fr2()\n",
    "print(result2, result3)\n",
    "\n"
   ]
  },
  {
   "cell_type": "code",
   "execution_count": 86,
   "id": "d4b2c90b",
   "metadata": {},
   "outputs": [
    {
     "name": "stdout",
     "output_type": "stream",
     "text": [
      "9\n"
     ]
    }
   ],
   "source": [
    "# f(x) = 2*x^2+x-1\n",
    "\n",
    "def f(x):\n",
    "    return 2*x**2+x-1\n",
    "\n",
    "print(f(2))"
   ]
  },
  {
   "cell_type": "code",
   "execution_count": 88,
   "id": "fa96bd8e",
   "metadata": {},
   "outputs": [
    {
     "name": "stdout",
     "output_type": "stream",
     "text": [
      "10\n"
     ]
    }
   ],
   "source": [
    "def sumList(L):\n",
    "    sum=0\n",
    "    for i in range(len(L)):\n",
    "        sum = sum + L[i]\n",
    "    return sum\n",
    "\n",
    "list = [1,2,3,4]\n",
    "print(sumlist(list))\n",
    "        "
   ]
  },
  {
   "cell_type": "code",
   "execution_count": 100,
   "id": "1a5caf29",
   "metadata": {},
   "outputs": [
    {
     "name": "stdout",
     "output_type": "stream",
     "text": [
      "[20, 40, 60, 80]\n"
     ]
    }
   ],
   "source": [
    "def doubleList(L):\n",
    "    L1=[]\n",
    "    for i in range(len(L)):\n",
    "        L1.append(L[i]*2)\n",
    "    return L1\n",
    "\n",
    "L=[10,20,30,40]\n",
    "print(doubleList(L))"
   ]
  },
  {
   "cell_type": "code",
   "execution_count": 101,
   "id": "a55cac11",
   "metadata": {},
   "outputs": [
    {
     "name": "stdout",
     "output_type": "stream",
     "text": [
      "7.681145747868608\n"
     ]
    }
   ],
   "source": [
    "'''\n",
    "To find the distance between the vectors\n",
    "V1=⟨x1,y1,z1⟩ \n",
    "V2=⟨x2,y2,z2⟩\n",
    "import math\n",
    "d=math.sqrt((x1−x2)^2+(y1−y2)^2+(z1−z2)^2)\n",
    "'''\n",
    "import math\n",
    "def distance(a,b):\n",
    "    dis=0\n",
    "    if len(a)==len(b):\n",
    "        for i in range(len(a)):\n",
    "            dis = dis+(a[i]-b[i])**2\n",
    "    return math.sqrt(dis)\n",
    "    \n",
    "\n",
    "v1=[3,6,7]\n",
    "v2=[8,9,2]\n",
    "print(distance(v1,v2))\n"
   ]
  },
  {
   "cell_type": "code",
   "execution_count": 102,
   "id": "4194c00f",
   "metadata": {},
   "outputs": [
    {
     "name": "stdout",
     "output_type": "stream",
     "text": [
      "[0, 0.2, 0.4, 0.6000000000000001, 0.8, 1]\n"
     ]
    }
   ],
   "source": [
    "def linspace(lower,upper,n):\n",
    "    L=[]\n",
    "    h=(upper-lower)/n\n",
    "    L.append(lower)\n",
    "    for i in range(n-1):\n",
    "        L.append(L[i]+h)\n",
    "    L.append(upper)\n",
    "    return L\n",
    "\n",
    "print(linspace(0,1,5))"
   ]
  },
  {
   "cell_type": "code",
   "execution_count": 103,
   "id": "cd79a926",
   "metadata": {},
   "outputs": [
    {
     "data": {
      "image/png": "[encoded data removed]",
      "text/plain": [
       "<Figure size 640x480 with 1 Axes>"
      ]
     },
     "metadata": {},
     "output_type": "display_data"
    }
   ],
   "source": [
    "def f(x):\n",
    "    return x**2\n",
    "\n",
    "def df(x):\n",
    "    return 2*x\n",
    "\n",
    "def linspace(lower,upper,n):\n",
    "    L=[]\n",
    "    h=(upper-lower)/n\n",
    "    L.append(lower)\n",
    "    for i in range(n-1):\n",
    "        L.append(L[i]+h)\n",
    "    L.append(upper)\n",
    "    return L\n",
    "\n",
    "Listx=linspace(-10,10,500)\n",
    "Listy=[]\n",
    "Listdf=[]\n",
    "for i in range(len(Listx)):\n",
    "    Listy.append(f(Listx[i]))\n",
    "    Listdf.append(df(Listx[i]))\n",
    "#print(Listx)\n",
    "#print(Listy)\n",
    "#print(Listdf)\n",
    "\n",
    "import matplotlib.pyplot as plt\n",
    "plt.plot(Listx,Listy)\n",
    "plt.plot(Listx,Listdf)\n",
    "plt.grid()\n",
    "plt.show()\n"
   ]
  },
  {
   "cell_type": "code",
   "execution_count": 106,
   "id": "76e7941b",
   "metadata": {},
   "outputs": [
    {
     "data": {
      "image/png": "[encoded data removed]",
      "text/plain": [
       "<Figure size 640x480 with 1 Axes>"
      ]
     },
     "metadata": {},
     "output_type": "display_data"
    }
   ],
   "source": [
    "import matplotlib.pyplot as plt\n",
    "import math\n",
    "\n",
    "\n",
    "def f(x):\n",
    "    return 1/(1+math.exp(-x))\n",
    "\n",
    "def linspace(lower,upper,n):\n",
    "    L=[]\n",
    "    h=(upper-lower)/n\n",
    "    L.append(lower)\n",
    "    for i in range(n-1):\n",
    "        L.append(L[i]+h)\n",
    "    L.append(upper)\n",
    "    return L\n",
    "\n",
    "Listx=linspace(-10,10,500)\n",
    "Listy=[]\n",
    "for i in range(len(Listx)):\n",
    "    Listy.append(f(Listx[i]))\n",
    "#print(Listx)\n",
    "#print(Listy)\n",
    "#print(Listdf)\n",
    "\n",
    "import matplotlib.pyplot as plt\n",
    "plt.plot(Listx,Listy)\n",
    "plt.grid()\n",
    "plt.show()\n",
    "\n"
   ]
  },
  {
   "cell_type": "code",
   "execution_count": null,
   "id": "d6cce382",
   "metadata": {},
   "outputs": [],
   "source": []
  }
 ],
 "metadata": {
  "kernelspec": {
   "display_name": "Python 3 (ipykernel)",
   "language": "python",
   "name": "python3"
  },
  "language_info": {
   "codemirror_mode": {
    "name": "ipython",
    "version": 3
   },
   "file_extension": ".py",
   "mimetype": "text/x-python",
   "name": "python",
   "nbconvert_exporter": "python",
   "pygments_lexer": "ipython3",
   "version": "3.11.5"
  }
 },
 "nbformat": 4,
 "nbformat_minor": 5
}

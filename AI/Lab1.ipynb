{
 "cells": [
  {
   "cell_type": "code",
   "execution_count": 1,
   "id": "3cca98fb",
   "metadata": {},
   "outputs": [
    {
     "name": "stdout",
     "output_type": "stream",
     "text": [
      "Hello World!\n"
     ]
    }
   ],
   "source": [
    "print(\"Hello World!\")"
   ]
  },
  {
   "cell_type": "code",
   "execution_count": 2,
   "id": "8571d08c",
   "metadata": {},
   "outputs": [
    {
     "name": "stdout",
     "output_type": "stream",
     "text": [
      "12\n",
      "<class 'int'>\n"
     ]
    }
   ],
   "source": [
    "a=12\n",
    "print(a)\n",
    "print(type(a))"
   ]
  },
  {
   "cell_type": "code",
   "execution_count": 4,
   "id": "35168b24",
   "metadata": {},
   "outputs": [
    {
     "name": "stdout",
     "output_type": "stream",
     "text": [
      "3.75\n",
      "<class 'float'>\n"
     ]
    }
   ],
   "source": [
    "b=3.75\n",
    "print(b)\n",
    "print(type(b))"
   ]
  },
  {
   "cell_type": "code",
   "execution_count": 6,
   "id": "26534f06",
   "metadata": {},
   "outputs": [
    {
     "name": "stdout",
     "output_type": "stream",
     "text": [
      "Rudro\n",
      "<class 'str'>\n"
     ]
    }
   ],
   "source": [
    "name=\"Rudro\"\n",
    "print(name)\n",
    "print(type(name))"
   ]
  },
  {
   "cell_type": "code",
   "execution_count": 11,
   "id": "c81cee60",
   "metadata": {},
   "outputs": [
    {
     "name": "stdout",
     "output_type": "stream",
     "text": [
      "True\n",
      "<class 'bool'>\n"
     ]
    }
   ],
   "source": [
    "a = True\n",
    "b = False\n",
    "print(a)\n",
    "print(type(a))"
   ]
  },
  {
   "cell_type": "code",
   "execution_count": 14,
   "id": "946ad33d",
   "metadata": {},
   "outputs": [
    {
     "name": "stdout",
     "output_type": "stream",
     "text": [
      "5\n",
      "-1\n",
      "6\n",
      "0.6666666666666666\n",
      "0\n",
      "8\n",
      "2\n"
     ]
    }
   ],
   "source": [
    "a=2\n",
    "b=3\n",
    "print(a+b)\n",
    "print(a-b)\n",
    "print(a*b)\n",
    "print(a/b) #float div\n",
    "print(a//b) #int div\n",
    "print(a**b) #a^b\n",
    "print(a%b)"
   ]
  },
  {
   "cell_type": "code",
   "execution_count": 1,
   "id": "8a5fda69",
   "metadata": {},
   "outputs": [
    {
     "name": "stdout",
     "output_type": "stream",
     "text": [
      "True\n",
      "False\n",
      "True\n",
      "False\n"
     ]
    }
   ],
   "source": [
    "c=1\n",
    "d=2\n",
    "e=3\n",
    "print(c<=d)\n",
    "print(d>e)\n",
    "print(c<d or c>e)\n",
    "print(c<d and c>e)"
   ]
  },
  {
   "cell_type": "code",
   "execution_count": 3,
   "id": "6bc2f19d",
   "metadata": {},
   "outputs": [
    {
     "name": "stdout",
     "output_type": "stream",
     "text": [
      "Please enter the age : 22\n",
      "Adult\n"
     ]
    }
   ],
   "source": [
    "age = int(input(\"Please enter the age : \"))\n",
    "\n",
    "if age>=18:\n",
    "    print(\"Adult\")\n",
    "else:\n",
    "    print(\"Not Adult\")"
   ]
  },
  {
   "cell_type": "code",
   "execution_count": 10,
   "id": "25c741a9",
   "metadata": {},
   "outputs": [
    {
     "name": "stdout",
     "output_type": "stream",
     "text": [
      "Please enter the marks : 99\n",
      "A+\n"
     ]
    }
   ],
   "source": [
    "marks = int(input(\"Please enter the marks : \"))\n",
    "\n",
    "if marks>=90:\n",
    "    print(\"A+\")\n",
    "elif marks<=89 and marks>=85:\n",
    "    print(\"A\")\n",
    "else:\n",
    "    print(\"F\")\n"
   ]
  },
  {
   "cell_type": "code",
   "execution_count": 21,
   "id": "fed0ca7b",
   "metadata": {},
   "outputs": [
    {
     "name": "stdout",
     "output_type": "stream",
     "text": [
      "0 1 2 3 4 \n",
      "1 2 3 \n",
      "1 3 "
     ]
    }
   ],
   "source": [
    "for i in range(5):\n",
    "    print(i,end=\" \")\n",
    "    \n",
    "print()\n",
    "\n",
    "for i in range(1,4):\n",
    "    print(i,end=\" \")\n",
    "    \n",
    "print()\n",
    "    \n",
    "for i in range(1,4,2):\n",
    "    print(i,end=\" \")\n"
   ]
  },
  {
   "cell_type": "code",
   "execution_count": 26,
   "id": "f0a5c4a9",
   "metadata": {},
   "outputs": [
    {
     "name": "stdout",
     "output_type": "stream",
     "text": [
      "0 1 2 3 4 5 6 7 8 9 10 11 "
     ]
    }
   ],
   "source": [
    "for i in range(15):\n",
    "    if i==12:\n",
    "        break\n",
    "    print(i,end=\" \")"
   ]
  },
  {
   "cell_type": "code",
   "execution_count": 27,
   "id": "9ee9433e",
   "metadata": {},
   "outputs": [
    {
     "name": "stdout",
     "output_type": "stream",
     "text": [
      "1 2 3 4 5 6 7 8 9 16 17 18 19 "
     ]
    }
   ],
   "source": [
    "for i in range(1,20):\n",
    "    if i>=10 and i<=15:\n",
    "        continue\n",
    "    print(i,end=\" \")\n"
   ]
  },
  {
   "cell_type": "code",
   "execution_count": 31,
   "id": "b83626d3",
   "metadata": {},
   "outputs": [
    {
     "name": "stdout",
     "output_type": "stream",
     "text": [
      "1 3 5 7 9 11 13 15 17 19 "
     ]
    }
   ],
   "source": [
    "for i in range(1, 20):\n",
    "    if i%2==0 and i%2!=1:\n",
    "        continue\n",
    "    print(i,end=\" \") #printing odd"
   ]
  },
  {
   "cell_type": "code",
   "execution_count": 32,
   "id": "1daa6b86",
   "metadata": {},
   "outputs": [
    {
     "name": "stdout",
     "output_type": "stream",
     "text": [
      "2 4 6 8 10 12 14 16 18 "
     ]
    }
   ],
   "source": [
    "for i in range(1, 20):\n",
    "    if i%2==1:\n",
    "        continue\n",
    "    print(i,end=\" \") #printing even"
   ]
  },
  {
   "cell_type": "code",
   "execution_count": 39,
   "id": "a30bbe55",
   "metadata": {},
   "outputs": [
    {
     "name": "stdout",
     "output_type": "stream",
     "text": [
      "<class 'list'>\n",
      "2\n",
      "[5, 3, 3, 13]\n",
      "[3, 3, 5, 13]\n"
     ]
    }
   ],
   "source": [
    "list = []\n",
    "\n",
    "print(type(list))\n",
    "\n",
    "list.append(5)\n",
    "list.append(3)\n",
    "list.append(3)\n",
    "\n",
    "print(list.count(3))\n",
    "\n",
    "list.append(13)\n",
    "\n",
    "print(list)\n",
    "list.sort()\n",
    "print(list)"
   ]
  },
  {
   "cell_type": "code",
   "execution_count": 42,
   "id": "f7eee192",
   "metadata": {},
   "outputs": [
    {
     "name": "stdout",
     "output_type": "stream",
     "text": [
      "<class 'tuple'>\n",
      "1\n",
      "2\n",
      "3\n",
      "4\n"
     ]
    }
   ],
   "source": [
    "t = (1,2,3,4)\n",
    "\n",
    "print(type(t))\n",
    "\n",
    "for i in range(len(t)):\n",
    "    print(t[i])"
   ]
  },
  {
   "cell_type": "code",
   "execution_count": 43,
   "id": "b97ef1b5",
   "metadata": {},
   "outputs": [
    {
     "name": "stdout",
     "output_type": "stream",
     "text": [
      "<class 'list'>\n",
      "1\n",
      "2\n",
      "3\n",
      "4\n"
     ]
    }
   ],
   "source": [
    "list = [1,2,3,4]\n",
    "\n",
    "print(type(list))\n",
    "\n",
    "for i in range(len(list)):\n",
    "    print(list[i])"
   ]
  },
  {
   "cell_type": "code",
   "execution_count": 45,
   "id": "ecc0a336",
   "metadata": {},
   "outputs": [
    {
     "name": "stdout",
     "output_type": "stream",
     "text": [
      "<class 'list'>\n",
      "11\n",
      "21\n",
      "31\n",
      "41\n"
     ]
    }
   ],
   "source": [
    "list = [11,21,31,41]\n",
    "\n",
    "print(type(list))\n",
    "\n",
    "for i in list:\n",
    "    print(i)"
   ]
  },
  {
   "cell_type": "code",
   "execution_count": 50,
   "id": "5227b849",
   "metadata": {},
   "outputs": [
    {
     "name": "stdout",
     "output_type": "stream",
     "text": [
      "0: Python\n",
      "1: Python\n",
      "2: Python\n",
      "3: Python\n",
      "4: Python\n",
      "5: Python\n",
      "6: Python\n",
      "7: Python\n",
      "8: Python\n",
      "9: Python\n",
      "10: Python\n",
      "11: Python\n",
      "12: Python\n",
      "13: Python\n",
      "14: Python\n",
      "15: Python\n",
      "16: Python\n",
      "17: Python\n",
      "18: Python\n",
      "19: Python\n",
      "20: Python\n",
      "21: Python\n",
      "22: Python\n",
      "23: Python\n",
      "24: Python\n",
      "25: Python\n",
      "26: Python\n",
      "27: Python\n",
      "28: Python\n",
      "29: Python\n",
      "30: Python\n",
      "31: Python\n",
      "32: Python\n",
      "33: Python\n",
      "34: Python\n",
      "35: Python\n",
      "36: Python\n",
      "37: Python\n",
      "38: Python\n",
      "39: Python\n",
      "40: Python\n",
      "41: Python\n",
      "42: Python\n",
      "43: Python\n",
      "44: Python\n",
      "45: Python\n",
      "46: Python\n",
      "47: Python\n",
      "48: Python\n",
      "49: Python\n",
      "50: Python\n",
      "51: Python\n",
      "52: Python\n",
      "53: Python\n",
      "54: Python\n",
      "55: Python\n",
      "56: Python\n",
      "57: Python\n",
      "58: Python\n",
      "59: Python\n",
      "60: Python\n",
      "61: Python\n",
      "62: Python\n",
      "63: Python\n",
      "64: Python\n",
      "65: Python\n",
      "66: Python\n",
      "67: Python\n",
      "68: Python\n",
      "69: Python\n",
      "70: Python\n",
      "71: Python\n",
      "72: Python\n",
      "73: Python\n",
      "74: Python\n",
      "75: Python\n",
      "76: Python\n",
      "77: Python\n",
      "78: Python\n",
      "79: Python\n",
      "80: Python\n",
      "81: Python\n",
      "82: Python\n",
      "83: Python\n",
      "84: Python\n",
      "85: Python\n",
      "86: Python\n",
      "87: Python\n",
      "88: Python\n",
      "89: Python\n",
      "90: Python\n",
      "91: Python\n",
      "92: Python\n",
      "93: Python\n",
      "94: Python\n",
      "95: Python\n",
      "96: Python\n",
      "97: Python\n",
      "98: Python\n",
      "99: Python\n"
     ]
    }
   ],
   "source": [
    "for i in range(0,100):\n",
    "    print(str(i)+\": Python\")"
   ]
  },
  {
   "cell_type": "code",
   "execution_count": null,
   "id": "2a870532",
   "metadata": {},
   "outputs": [],
   "source": []
  }
 ],
 "metadata": {
  "kernelspec": {
   "display_name": "Python 3 (ipykernel)",
   "language": "python",
   "name": "python3"
  },
  "language_info": {
   "codemirror_mode": {
    "name": "ipython",
    "version": 3
   },
   "file_extension": ".py",
   "mimetype": "text/x-python",
   "name": "python",
   "nbconvert_exporter": "python",
   "pygments_lexer": "ipython3",
   "version": "3.11.5"
  }
 },
 "nbformat": 4,
 "nbformat_minor": 5
}
